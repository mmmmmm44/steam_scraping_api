{
 "cells": [
  {
   "cell_type": "markdown",
   "metadata": {},
   "source": [
    "# Steam Review Scraper\n",
    "\n",
    "A scraper that scrape reviews within a fixed time interval\n",
    "\n",
    "Using API: https://partner.steamgames.com/doc/store/getreviews"
   ]
  },
  {
   "cell_type": "markdown",
   "metadata": {},
   "source": [
    "## Scrape Reviews"
   ]
  },
  {
   "cell_type": "code",
   "execution_count": 5,
   "metadata": {},
   "outputs": [],
   "source": [
    "from datetime import datetime, timedelta\n",
    "import requests\n",
    "import pickle\n",
    "from pathlib import Path"
   ]
  },
  {
   "cell_type": "code",
   "execution_count": 6,
   "metadata": {},
   "outputs": [],
   "source": [
    "def get_user_reviews(review_appid, params):\n",
    "\n",
    "    user_review_url = f'https://store.steampowered.com/appreviews/{review_appid}'\n",
    "    req_user_review = requests.get(\n",
    "        user_review_url,\n",
    "        params=params\n",
    "    )\n",
    "\n",
    "    if req_user_review.status_code != 200:\n",
    "        print(f'Fail to get response. Status code: {req_user_review.status_code}')\n",
    "        return {\"success\": 2}\n",
    "    \n",
    "    try:\n",
    "        user_reviews = req_user_review.json()\n",
    "    except:\n",
    "        return {\"success\": 2}\n",
    "\n",
    "    return user_reviews"
   ]
  },
  {
   "cell_type": "code",
   "execution_count": 7,
   "metadata": {},
   "outputs": [
    {
     "name": "stdout",
     "output_type": "stream",
     "text": [
      "Start time: 2024-01-01 00:00:00\n",
      "End time: 2024-05-27 16:28:17.155835\n",
      "1704038400.0 1716798497.155835\n",
      "No reviews.\n",
      "{'success': 1, 'query_summary': {'num_reviews': 0, 'review_score': 0, 'review_score_desc': 'No user reviews', 'total_positive': 0, 'total_negative': 0, 'total_reviews': 0}, 'reviews': [], 'cursor': '*'}\n"
     ]
    }
   ],
   "source": [
    "review_appname = \"ELDEN RING\"                              # the game name\n",
    "review_appid = 1245620                                      # the game appid on Steam\n",
    "\n",
    "# the params of the API\n",
    "params = {\n",
    "        'json':1,\n",
    "        'language': 'english',\n",
    "        'cursor': '*',                                  # set the cursor to retrieve reviews from a specific \"page\"\n",
    "        'num_per_page': 100,\n",
    "        'filter': 'recent'\n",
    "    }\n",
    "\n",
    "time_interval = timedelta(hours=24)                         # the time interval to get the reviews\n",
    "# end_time = datetime.fromtimestamp(1716718910)               # the timestamp in the return result are unix timestamp (GMT+0)\n",
    "end_time = datetime.now()\n",
    "# start_time = end_time - time_interval\n",
    "start_time = datetime(2024, 1, 1, 0, 0, 0)\n",
    "\n",
    "print(f\"Start time: {start_time}\")     # printing local timezone for logging\n",
    "print(f\"End time: {end_time}\")\n",
    "print(start_time.timestamp(), end_time.timestamp())\n",
    "\n",
    "passed_start_time = False\n",
    "passed_end_time = False\n",
    "\n",
    "selected_reviews = []\n",
    "\n",
    "while (not passed_start_time or not passed_end_time):\n",
    "\n",
    "    reviews_response = get_user_reviews(review_appid, params)\n",
    "\n",
    "    # not success?\n",
    "    if reviews_response[\"success\"] != 1:\n",
    "        print(\"Not a success\")\n",
    "        print(reviews_response)\n",
    "        break\n",
    "\n",
    "    if reviews_response[\"query_summary\"]['num_reviews'] == 0:\n",
    "        print(\"No reviews.\")\n",
    "        print(reviews_response)\n",
    "        break\n",
    "\n",
    "    for review in reviews_response[\"reviews\"]:\n",
    "        recommendation_id = review['recommendationid']\n",
    "        \n",
    "        timestamp_created = review['timestamp_created']\n",
    "        timestamp_updated = review['timestamp_updated']\n",
    "\n",
    "        # skip the comments that beyond end_time\n",
    "        if not passed_end_time:\n",
    "            if timestamp_created > end_time.timestamp():\n",
    "                continue\n",
    "            else:\n",
    "                passed_end_time = True\n",
    "                \n",
    "        # exit the loop once detected a comment that before start_time\n",
    "        if not passed_start_time:\n",
    "            if timestamp_created < start_time.timestamp():\n",
    "                passed_start_time = True\n",
    "                break\n",
    "\n",
    "        # extract the useful (to me) data\n",
    "        author_steamid = review['author']['steamid']        # will automatically redirect to the profileURL if any\n",
    "        playtime_forever = review['author']['playtime_forever']\n",
    "        playtime_last_two_weeks = review['author']['playtime_last_two_weeks']\n",
    "        playtime_at_review_minutes = review['author']['playtime_at_review']\n",
    "        last_played = review['author']['last_played']\n",
    "\n",
    "        review_text = review['review']\n",
    "        voted_up = review['voted_up']\n",
    "        votes_up = review['votes_up']\n",
    "        votes_funny = review['votes_funny']\n",
    "        weighted_vote_score = review['weighted_vote_score']\n",
    "        steam_purchase = review['steam_purchase']\n",
    "        received_for_free = review['received_for_free']\n",
    "        written_during_early_access = review['written_during_early_access']\n",
    "\n",
    "        my_review_dict = {\n",
    "            'recommendationid': recommendation_id,\n",
    "            'author_steamid': author_steamid,\n",
    "            'playtime_at_review_minutes': playtime_at_review_minutes,\n",
    "            'playtime_forever_minutes': playtime_forever,\n",
    "            'playtime_last_two_weeks_minutes': playtime_last_two_weeks,\n",
    "            'last_played': last_played,\n",
    "\n",
    "            'review_text': review_text,\n",
    "            'timestamp_created': timestamp_created,\n",
    "            'timestamp_updated': timestamp_updated,\n",
    "\n",
    "            'voted_up': voted_up,\n",
    "            'votes_up': votes_up,\n",
    "            'votes_funny': votes_funny,\n",
    "            'weighted_vote_score': weighted_vote_score,\n",
    "            'steam_purchase': steam_purchase,\n",
    "            'received_for_free': received_for_free,\n",
    "            'written_during_early_access': written_during_early_access,\n",
    "        }\n",
    "\n",
    "        selected_reviews.append(my_review_dict)\n",
    "\n",
    "    # go to next page\n",
    "    try:\n",
    "        cursor = reviews_response['cursor']         # cursor field does not exist in the last page\n",
    "    except Exception as e:\n",
    "        cursor = ''\n",
    "\n",
    "    # no next page\n",
    "    # exit the loop\n",
    "    if not cursor:\n",
    "        print(\"Reached the end of all comments.\")\n",
    "        break\n",
    "    \n",
    "    # set the cursor object to move to next page to continue\n",
    "    params['cursor'] = cursor\n",
    "    print('To next page. Next page cursor:', cursor)\n"
   ]
  },
  {
   "cell_type": "code",
   "execution_count": 8,
   "metadata": {},
   "outputs": [
    {
     "data": {
      "text/plain": [
       "[]"
      ]
     },
     "execution_count": 8,
     "metadata": {},
     "output_type": "execute_result"
    }
   ],
   "source": [
    "selected_reviews[:10]"
   ]
  },
  {
   "cell_type": "code",
   "execution_count": 9,
   "metadata": {},
   "outputs": [
    {
     "data": {
      "text/plain": [
       "0"
      ]
     },
     "execution_count": 9,
     "metadata": {},
     "output_type": "execute_result"
    }
   ],
   "source": [
    "len(selected_reviews)"
   ]
  },
  {
   "cell_type": "code",
   "execution_count": 10,
   "metadata": {},
   "outputs": [],
   "source": [
    "# save the selected reviews to a file\n",
    "\n",
    "foldername = f\"{review_appid}_{review_appname}\"\n",
    "filename = f\"{review_appid}_{review_appname}_reviews_{start_time.strftime('%Y%m%d-%H%M%S')}_{end_time.strftime('%Y%m%d-%H%M%S')}.pkl\"\n",
    "output_path = Path(\n",
    "    foldername, filename\n",
    ")\n",
    "if not output_path.parent.exists():\n",
    "    output_path.parent.mkdir(parents=True)\n",
    "\n",
    "pickle.dump(selected_reviews, open(output_path, 'wb'))"
   ]
  },
  {
   "cell_type": "markdown",
   "metadata": {},
   "source": [
    "## Read a review pickle object"
   ]
  },
  {
   "cell_type": "code",
   "execution_count": 11,
   "metadata": {},
   "outputs": [],
   "source": [
    "review_appname = \"ELDEN RING\"                              # the game name\n",
    "review_appid = 1245620                                      # the game appid on Steam\n",
    "\n",
    "\n",
    "foldername = f\"{review_appid}_{review_appname}\"\n",
    "filename = f\"{review_appid}_{review_appname}_reviews_{start_time.strftime('%Y%m%d-%H%M%S')}_{end_time.strftime('%Y%m%d-%H%M%S')}.pkl\"\n",
    "output_path = Path(\n",
    "    foldername, filename\n",
    ")\n",
    "\n",
    "if not output_path.exists():\n",
    "    print(\"File not found.\")\n",
    "    exit()\n",
    "\n",
    "\n",
    "selected_reviews = pickle.load(open(output_path, 'rb'))"
   ]
  },
  {
   "cell_type": "code",
   "execution_count": 12,
   "metadata": {},
   "outputs": [
    {
     "data": {
      "text/plain": [
       "0"
      ]
     },
     "execution_count": 12,
     "metadata": {},
     "output_type": "execute_result"
    }
   ],
   "source": [
    "len(selected_reviews)"
   ]
  },
  {
   "cell_type": "code",
   "execution_count": 13,
   "metadata": {},
   "outputs": [
    {
     "ename": "IndexError",
     "evalue": "list index out of range",
     "output_type": "error",
     "traceback": [
      "\u001b[0;31m---------------------------------------------------------------------------\u001b[0m",
      "\u001b[0;31mIndexError\u001b[0m                                Traceback (most recent call last)",
      "Cell \u001b[0;32mIn[13], line 1\u001b[0m\n\u001b[0;32m----> 1\u001b[0m \u001b[43mselected_reviews\u001b[49m\u001b[43m[\u001b[49m\u001b[38;5;241;43m0\u001b[39;49m\u001b[43m]\u001b[49m\n",
      "\u001b[0;31mIndexError\u001b[0m: list index out of range"
     ]
    }
   ],
   "source": [
    "selected_reviews[0]"
   ]
  },
  {
   "cell_type": "code",
   "execution_count": null,
   "metadata": {},
   "outputs": [],
   "source": []
  }
 ],
 "metadata": {
  "kernelspec": {
   "display_name": "fyp-test2-wsl",
   "language": "python",
   "name": "python3"
  },
  "language_info": {
   "codemirror_mode": {
    "name": "ipython",
    "version": 3
   },
   "file_extension": ".py",
   "mimetype": "text/x-python",
   "name": "python",
   "nbconvert_exporter": "python",
   "pygments_lexer": "ipython3",
   "version": "3.9.18"
  }
 },
 "nbformat": 4,
 "nbformat_minor": 2
}
