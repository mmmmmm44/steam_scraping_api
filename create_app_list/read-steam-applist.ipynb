{
 "cells": [
  {
   "cell_type": "code",
   "execution_count": 1,
   "metadata": {},
   "outputs": [],
   "source": [
    "import pickle\n",
    "from pathlib import Path\n",
    "import os\n",
    "\n",
    "checkpoint_folder = Path(\"checkpoints\")\n",
    "\n",
    "apps_dict_filename_prefix = 'apps_dict'\n",
    "exc_apps_filename_prefix = 'excluded_apps_list'\n",
    "error_apps_filename_prefix = 'error_apps_list'\n",
    "\n",
    "apps_dict = {}\n",
    "excluded_apps_list = []\n",
    "error_apps_list = []"
   ]
  },
  {
   "cell_type": "code",
   "execution_count": 2,
   "metadata": {},
   "outputs": [],
   "source": [
    "def check_latest_checkpoints(checkpoint_folder, apps_dict_filename_prefix, exc_apps_filename_prefix, error_apps_filename_prefix):\n",
    "    # app_dict\n",
    "    all_pkl = []\n",
    "    \n",
    "    for root, dirs, files in os.walk(checkpoint_folder):\n",
    "        all_pkl = list(map(lambda f: Path(root, f), files))\n",
    "        all_pkl = [p for p in all_pkl if p.suffix == '.p']\n",
    "        break\n",
    "            \n",
    "    apps_dict_ckpt_files = [f for f in all_pkl if apps_dict_filename_prefix in f.name and \"ckpt\" in f.name]\n",
    "    exc_apps_list_ckpt_files = [f for f in all_pkl if exc_apps_filename_prefix in f.name and \"ckpt\" in f.name]\n",
    "    error_apps_ckpt_files = [f for f in all_pkl if error_apps_filename_prefix in f.name and 'ckpt' in f.name]\n",
    "\n",
    "    apps_dict_ckpt_files.sort()\n",
    "    exc_apps_list_ckpt_files.sort()\n",
    "    error_apps_ckpt_files.sort()\n",
    "\n",
    "    latest_apps_dict_ckpt_path = apps_dict_ckpt_files[-1] if apps_dict_ckpt_files else None\n",
    "    latest_exc_apps_list_ckpt_path = exc_apps_list_ckpt_files[-1] if exc_apps_list_ckpt_files else None\n",
    "    latest_error_apps_list_ckpt_path = error_apps_ckpt_files[-1] if error_apps_ckpt_files else None\n",
    "\n",
    "    return latest_apps_dict_ckpt_path, latest_exc_apps_list_ckpt_path, latest_error_apps_list_ckpt_path"
   ]
  },
  {
   "cell_type": "code",
   "execution_count": 3,
   "metadata": {},
   "outputs": [],
   "source": [
    "def load_pickle(path_to_load:Path) -> dict:\n",
    "    obj = pickle.load(open(path_to_load, \"rb\"))\n",
    "    # print(f'Successfully loaded {str(path_to_load)}')\n",
    "    \n",
    "    return obj"
   ]
  },
  {
   "cell_type": "code",
   "execution_count": 4,
   "metadata": {},
   "outputs": [],
   "source": [
    "if not checkpoint_folder.exists():\n",
    "    print(f'Fail to find checkpoint folder: {checkpoint_folder}')\n",
    "    print(f'Start at blank.')"
   ]
  },
  {
   "cell_type": "code",
   "execution_count": 6,
   "metadata": {},
   "outputs": [
    {
     "name": "stdout",
     "output_type": "stream",
     "text": [
      "Successfully load apps_dict checkpoint: checkpoints/apps_dict-ckpt-fin.p\n",
      "Number of apps in apps_dict: 202\n",
      "Successfully load excluded_apps_list checkpoint: checkpoints/excluded_apps_list-ckpt-fin.p\n",
      "Number of apps in excluded_apps_list: 25\n",
      "Successfully load error_apps_list checkpoint: checkpoints/error_apps_list-ckpt-fin.p\n",
      "Number of apps in error_apps_list: 0\n"
     ]
    }
   ],
   "source": [
    "latest_apps_dict_ckpt_path, latest_exc_apps_list_ckpt_path, latest_error_apps_list_ckpt_path = check_latest_checkpoints(checkpoint_folder, apps_dict_filename_prefix, exc_apps_filename_prefix, error_apps_filename_prefix)\n",
    "\n",
    "if latest_apps_dict_ckpt_path:\n",
    "    apps_dict = load_pickle(latest_apps_dict_ckpt_path)\n",
    "    print('Successfully load apps_dict checkpoint:', latest_apps_dict_ckpt_path)\n",
    "    print(f'Number of apps in apps_dict: {len(apps_dict)}')\n",
    "\n",
    "if latest_exc_apps_list_ckpt_path:\n",
    "    excluded_apps_list = load_pickle(latest_exc_apps_list_ckpt_path)\n",
    "    print(\"Successfully load excluded_apps_list checkpoint:\", latest_exc_apps_list_ckpt_path)\n",
    "    print(f'Number of apps in excluded_apps_list: {len(excluded_apps_list)}')\n",
    "\n",
    "if latest_error_apps_list_ckpt_path:\n",
    "    error_apps_list = load_pickle(latest_error_apps_list_ckpt_path)\n",
    "    print(\"Successfully load error_apps_list checkpoint:\", latest_error_apps_list_ckpt_path)\n",
    "    print(f'Number of apps in error_apps_list: {len(error_apps_list)}')"
   ]
  }
 ],
 "metadata": {
  "kernelspec": {
   "display_name": "base",
   "language": "python",
   "name": "python3"
  },
  "language_info": {
   "codemirror_mode": {
    "name": "ipython",
    "version": 3
   },
   "file_extension": ".py",
   "mimetype": "text/x-python",
   "name": "python",
   "nbconvert_exporter": "python",
   "pygments_lexer": "ipython3",
   "version": "3.9.18"
  }
 },
 "nbformat": 4,
 "nbformat_minor": 2
}
